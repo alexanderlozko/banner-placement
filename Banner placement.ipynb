{
 "cells": [
  {
   "cell_type": "markdown",
   "id": "43fa55e4",
   "metadata": {},
   "source": [
    "## CLUSTERING TASK: Banner placement\n",
    "\n",
    "_Imagine that the international cruise agency Carnival Cruise Line decided to advertise itself with the help of banners and turned to you for this. To test whether such banners are of great use, only 20 of them will be placed around the world. You need to choose 20 such locations for placement, so that the benefits are great, and the agency continues to cooperate with you. The agency is large and has several offices around the world. Near these offices, it wants to place banners - it is easier to negotiate and check the result. Also, these places should be popular among tourists._\n",
    "\n",
    "To find the best places, we will use the database of the largest social network based on locations — Foursquare.\n",
    "\n",
    "Part of the open data is, for example, on the website archive.org:\n",
    "\n",
    "https://archive.org/details/201309_foursquare_dataset_umn"
   ]
  },
  {
   "cell_type": "markdown",
   "id": "57b3d47f",
   "metadata": {},
   "source": [
    "### Data processing\n",
    "Let's load the data.\n",
    "For convenient work, we will convert to the csv format by deleting lines that do not contain coordinates - they are not informative for us:"
   ]
  },
  {
   "cell_type": "code",
   "execution_count": 1,
   "id": "ff14445a",
   "metadata": {},
   "outputs": [],
   "source": [
    "import pandas as pd\n",
    "import numpy as np"
   ]
  },
  {
   "cell_type": "code",
   "execution_count": 2,
   "id": "bf6b018b",
   "metadata": {},
   "outputs": [],
   "source": [
    "data = pd.read_table('umn_foursquare_datasets/checkins.dat', sep='|', low_memory=False)"
   ]
  },
  {
   "cell_type": "code",
   "execution_count": 3,
   "id": "78f90162",
   "metadata": {},
   "outputs": [],
   "source": [
    "data.to_csv('umn_foursquare_datasets/checkins.csv')"
   ]
  },
  {
   "cell_type": "code",
   "execution_count": 4,
   "id": "3f23cec1",
   "metadata": {},
   "outputs": [],
   "source": [
    "data = pd.read_csv('umn_foursquare_datasets/checkins.csv', low_memory=False)"
   ]
  },
  {
   "cell_type": "code",
   "execution_count": 5,
   "id": "022d5b62",
   "metadata": {},
   "outputs": [
    {
     "data": {
      "text/html": [
       "<div>\n",
       "<style scoped>\n",
       "    .dataframe tbody tr th:only-of-type {\n",
       "        vertical-align: middle;\n",
       "    }\n",
       "\n",
       "    .dataframe tbody tr th {\n",
       "        vertical-align: top;\n",
       "    }\n",
       "\n",
       "    .dataframe thead th {\n",
       "        text-align: right;\n",
       "    }\n",
       "</style>\n",
       "<table border=\"1\" class=\"dataframe\">\n",
       "  <thead>\n",
       "    <tr style=\"text-align: right;\">\n",
       "      <th></th>\n",
       "      <th>Unnamed: 0</th>\n",
       "      <th>id</th>\n",
       "      <th>user_id</th>\n",
       "      <th>venue_id</th>\n",
       "      <th>latitude</th>\n",
       "      <th>longitude</th>\n",
       "      <th>created_at</th>\n",
       "    </tr>\n",
       "  </thead>\n",
       "  <tbody>\n",
       "    <tr>\n",
       "      <th>0</th>\n",
       "      <td>0</td>\n",
       "      <td>---------+---------+----------+---------------...</td>\n",
       "      <td>NaN</td>\n",
       "      <td>NaN</td>\n",
       "      <td>NaN</td>\n",
       "      <td>NaN</td>\n",
       "      <td>NaN</td>\n",
       "    </tr>\n",
       "    <tr>\n",
       "      <th>1</th>\n",
       "      <td>1</td>\n",
       "      <td>984301</td>\n",
       "      <td>2041916.0</td>\n",
       "      <td>5222.0</td>\n",
       "      <td></td>\n",
       "      <td></td>\n",
       "      <td>2012-04-21 17:39:01</td>\n",
       "    </tr>\n",
       "    <tr>\n",
       "      <th>2</th>\n",
       "      <td>2</td>\n",
       "      <td>984222</td>\n",
       "      <td>15824.0</td>\n",
       "      <td>5222.0</td>\n",
       "      <td>38.8951118</td>\n",
       "      <td>-77.0363658</td>\n",
       "      <td>2012-04-21 17:43:47</td>\n",
       "    </tr>\n",
       "    <tr>\n",
       "      <th>3</th>\n",
       "      <td>3</td>\n",
       "      <td>984315</td>\n",
       "      <td>1764391.0</td>\n",
       "      <td>5222.0</td>\n",
       "      <td></td>\n",
       "      <td></td>\n",
       "      <td>2012-04-21 17:37:18</td>\n",
       "    </tr>\n",
       "    <tr>\n",
       "      <th>4</th>\n",
       "      <td>4</td>\n",
       "      <td>984234</td>\n",
       "      <td>44652.0</td>\n",
       "      <td>5222.0</td>\n",
       "      <td>33.800745</td>\n",
       "      <td>-84.41052</td>\n",
       "      <td>2012-04-21 17:43:43</td>\n",
       "    </tr>\n",
       "    <tr>\n",
       "      <th>...</th>\n",
       "      <td>...</td>\n",
       "      <td>...</td>\n",
       "      <td>...</td>\n",
       "      <td>...</td>\n",
       "      <td>...</td>\n",
       "      <td>...</td>\n",
       "      <td>...</td>\n",
       "    </tr>\n",
       "    <tr>\n",
       "      <th>1021963</th>\n",
       "      <td>1021963</td>\n",
       "      <td>956119</td>\n",
       "      <td>1139114.0</td>\n",
       "      <td>29488.0</td>\n",
       "      <td>42.439479</td>\n",
       "      <td>-83.7438303</td>\n",
       "      <td>2012-04-13 11:36:44</td>\n",
       "    </tr>\n",
       "    <tr>\n",
       "      <th>1021964</th>\n",
       "      <td>1021964</td>\n",
       "      <td>956447</td>\n",
       "      <td>2088020.0</td>\n",
       "      <td>4432.0</td>\n",
       "      <td></td>\n",
       "      <td></td>\n",
       "      <td>2012-04-13 12:58:05</td>\n",
       "    </tr>\n",
       "    <tr>\n",
       "      <th>1021965</th>\n",
       "      <td>1021965</td>\n",
       "      <td>956733</td>\n",
       "      <td>960666.0</td>\n",
       "      <td>60.0</td>\n",
       "      <td>42.331427</td>\n",
       "      <td>-83.0457538</td>\n",
       "      <td>2012-04-13 21:56:19</td>\n",
       "    </tr>\n",
       "    <tr>\n",
       "      <th>1021966</th>\n",
       "      <td>1021966</td>\n",
       "      <td>957139</td>\n",
       "      <td>1771518.0</td>\n",
       "      <td>10935.0</td>\n",
       "      <td></td>\n",
       "      <td></td>\n",
       "      <td>2012-04-14 02:44:52</td>\n",
       "    </tr>\n",
       "    <tr>\n",
       "      <th>1021967</th>\n",
       "      <td>1021967</td>\n",
       "      <td>(1021966 rows)</td>\n",
       "      <td>NaN</td>\n",
       "      <td>NaN</td>\n",
       "      <td>NaN</td>\n",
       "      <td>NaN</td>\n",
       "      <td>NaN</td>\n",
       "    </tr>\n",
       "  </tbody>\n",
       "</table>\n",
       "<p>1021968 rows × 7 columns</p>\n",
       "</div>"
      ],
      "text/plain": [
       "         Unnamed: 0                                             id      \\\n",
       "0                 0  ---------+---------+----------+---------------...   \n",
       "1                 1                                            984301    \n",
       "2                 2                                            984222    \n",
       "3                 3                                            984315    \n",
       "4                 4                                            984234    \n",
       "...             ...                                                ...   \n",
       "1021963     1021963                                            956119    \n",
       "1021964     1021964                                            956447    \n",
       "1021965     1021965                                            956733    \n",
       "1021966     1021966                                            957139    \n",
       "1021967     1021967                                     (1021966 rows)   \n",
       "\n",
       "          user_id    venue_id        latitude             longitude       \\\n",
       "0              NaN         NaN                  NaN                  NaN   \n",
       "1        2041916.0      5222.0                                             \n",
       "2          15824.0      5222.0          38.8951118          -77.0363658    \n",
       "3        1764391.0      5222.0                                             \n",
       "4          44652.0      5222.0           33.800745            -84.41052    \n",
       "...            ...         ...                  ...                  ...   \n",
       "1021963  1139114.0     29488.0           42.439479          -83.7438303    \n",
       "1021964  2088020.0      4432.0                                             \n",
       "1021965   960666.0        60.0           42.331427          -83.0457538    \n",
       "1021966  1771518.0     10935.0                                             \n",
       "1021967        NaN         NaN                  NaN                  NaN   \n",
       "\n",
       "             created_at        \n",
       "0                         NaN  \n",
       "1         2012-04-21 17:39:01  \n",
       "2         2012-04-21 17:43:47  \n",
       "3         2012-04-21 17:37:18  \n",
       "4         2012-04-21 17:43:43  \n",
       "...                       ...  \n",
       "1021963   2012-04-13 11:36:44  \n",
       "1021964   2012-04-13 12:58:05  \n",
       "1021965   2012-04-13 21:56:19  \n",
       "1021966   2012-04-14 02:44:52  \n",
       "1021967                   NaN  \n",
       "\n",
       "[1021968 rows x 7 columns]"
      ]
     },
     "execution_count": 5,
     "metadata": {},
     "output_type": "execute_result"
    }
   ],
   "source": [
    "data"
   ]
  },
  {
   "cell_type": "code",
   "execution_count": 6,
   "id": "79acb1cf",
   "metadata": {},
   "outputs": [],
   "source": [
    "data = data.rename(columns={' user_id ': 'user_id', '     latitude      ':'latitude', '     longitude     ':'longitude', '     created_at      ': 'created_at', '   id    ': 'id', ' venue_id ': 'venue_id' })"
   ]
  },
  {
   "cell_type": "code",
   "execution_count": 7,
   "id": "9612c43a",
   "metadata": {},
   "outputs": [
    {
     "data": {
      "text/plain": [
       "Index(['Unnamed: 0', 'id', 'user_id', 'venue_id', 'latitude', 'longitude',\n",
       "       'created_at'],\n",
       "      dtype='object')"
      ]
     },
     "execution_count": 7,
     "metadata": {},
     "output_type": "execute_result"
    }
   ],
   "source": [
    "data.columns"
   ]
  },
  {
   "cell_type": "code",
   "execution_count": 8,
   "id": "601db264",
   "metadata": {
    "scrolled": true
   },
   "outputs": [],
   "source": [
    "data = data.drop('Unnamed: 0', axis=1)"
   ]
  },
  {
   "cell_type": "code",
   "execution_count": 9,
   "id": "db7a43c0",
   "metadata": {},
   "outputs": [
    {
     "data": {
      "text/html": [
       "<div>\n",
       "<style scoped>\n",
       "    .dataframe tbody tr th:only-of-type {\n",
       "        vertical-align: middle;\n",
       "    }\n",
       "\n",
       "    .dataframe tbody tr th {\n",
       "        vertical-align: top;\n",
       "    }\n",
       "\n",
       "    .dataframe thead th {\n",
       "        text-align: right;\n",
       "    }\n",
       "</style>\n",
       "<table border=\"1\" class=\"dataframe\">\n",
       "  <thead>\n",
       "    <tr style=\"text-align: right;\">\n",
       "      <th></th>\n",
       "      <th>id</th>\n",
       "      <th>user_id</th>\n",
       "      <th>venue_id</th>\n",
       "      <th>latitude</th>\n",
       "      <th>longitude</th>\n",
       "      <th>created_at</th>\n",
       "    </tr>\n",
       "  </thead>\n",
       "  <tbody>\n",
       "    <tr>\n",
       "      <th>0</th>\n",
       "      <td>---------+---------+----------+---------------...</td>\n",
       "      <td>NaN</td>\n",
       "      <td>NaN</td>\n",
       "      <td>NaN</td>\n",
       "      <td>NaN</td>\n",
       "      <td>NaN</td>\n",
       "    </tr>\n",
       "    <tr>\n",
       "      <th>1</th>\n",
       "      <td>984301</td>\n",
       "      <td>2041916.0</td>\n",
       "      <td>5222.0</td>\n",
       "      <td></td>\n",
       "      <td></td>\n",
       "      <td>2012-04-21 17:39:01</td>\n",
       "    </tr>\n",
       "    <tr>\n",
       "      <th>2</th>\n",
       "      <td>984222</td>\n",
       "      <td>15824.0</td>\n",
       "      <td>5222.0</td>\n",
       "      <td>38.8951118</td>\n",
       "      <td>-77.0363658</td>\n",
       "      <td>2012-04-21 17:43:47</td>\n",
       "    </tr>\n",
       "    <tr>\n",
       "      <th>3</th>\n",
       "      <td>984315</td>\n",
       "      <td>1764391.0</td>\n",
       "      <td>5222.0</td>\n",
       "      <td></td>\n",
       "      <td></td>\n",
       "      <td>2012-04-21 17:37:18</td>\n",
       "    </tr>\n",
       "    <tr>\n",
       "      <th>4</th>\n",
       "      <td>984234</td>\n",
       "      <td>44652.0</td>\n",
       "      <td>5222.0</td>\n",
       "      <td>33.800745</td>\n",
       "      <td>-84.41052</td>\n",
       "      <td>2012-04-21 17:43:43</td>\n",
       "    </tr>\n",
       "    <tr>\n",
       "      <th>...</th>\n",
       "      <td>...</td>\n",
       "      <td>...</td>\n",
       "      <td>...</td>\n",
       "      <td>...</td>\n",
       "      <td>...</td>\n",
       "      <td>...</td>\n",
       "    </tr>\n",
       "    <tr>\n",
       "      <th>1021963</th>\n",
       "      <td>956119</td>\n",
       "      <td>1139114.0</td>\n",
       "      <td>29488.0</td>\n",
       "      <td>42.439479</td>\n",
       "      <td>-83.7438303</td>\n",
       "      <td>2012-04-13 11:36:44</td>\n",
       "    </tr>\n",
       "    <tr>\n",
       "      <th>1021964</th>\n",
       "      <td>956447</td>\n",
       "      <td>2088020.0</td>\n",
       "      <td>4432.0</td>\n",
       "      <td></td>\n",
       "      <td></td>\n",
       "      <td>2012-04-13 12:58:05</td>\n",
       "    </tr>\n",
       "    <tr>\n",
       "      <th>1021965</th>\n",
       "      <td>956733</td>\n",
       "      <td>960666.0</td>\n",
       "      <td>60.0</td>\n",
       "      <td>42.331427</td>\n",
       "      <td>-83.0457538</td>\n",
       "      <td>2012-04-13 21:56:19</td>\n",
       "    </tr>\n",
       "    <tr>\n",
       "      <th>1021966</th>\n",
       "      <td>957139</td>\n",
       "      <td>1771518.0</td>\n",
       "      <td>10935.0</td>\n",
       "      <td></td>\n",
       "      <td></td>\n",
       "      <td>2012-04-14 02:44:52</td>\n",
       "    </tr>\n",
       "    <tr>\n",
       "      <th>1021967</th>\n",
       "      <td>(1021966 rows)</td>\n",
       "      <td>NaN</td>\n",
       "      <td>NaN</td>\n",
       "      <td>NaN</td>\n",
       "      <td>NaN</td>\n",
       "      <td>NaN</td>\n",
       "    </tr>\n",
       "  </tbody>\n",
       "</table>\n",
       "<p>1021968 rows × 6 columns</p>\n",
       "</div>"
      ],
      "text/plain": [
       "                                                        id    user_id  \\\n",
       "0        ---------+---------+----------+---------------...        NaN   \n",
       "1                                                  984301   2041916.0   \n",
       "2                                                  984222     15824.0   \n",
       "3                                                  984315   1764391.0   \n",
       "4                                                  984234     44652.0   \n",
       "...                                                    ...        ...   \n",
       "1021963                                            956119   1139114.0   \n",
       "1021964                                            956447   2088020.0   \n",
       "1021965                                            956733    960666.0   \n",
       "1021966                                            957139   1771518.0   \n",
       "1021967                                     (1021966 rows)        NaN   \n",
       "\n",
       "         venue_id             latitude            longitude  \\\n",
       "0             NaN                  NaN                  NaN   \n",
       "1          5222.0                                             \n",
       "2          5222.0          38.8951118          -77.0363658    \n",
       "3          5222.0                                             \n",
       "4          5222.0           33.800745            -84.41052    \n",
       "...           ...                  ...                  ...   \n",
       "1021963   29488.0           42.439479          -83.7438303    \n",
       "1021964    4432.0                                             \n",
       "1021965      60.0           42.331427          -83.0457538    \n",
       "1021966   10935.0                                             \n",
       "1021967       NaN                  NaN                  NaN   \n",
       "\n",
       "                   created_at  \n",
       "0                         NaN  \n",
       "1         2012-04-21 17:39:01  \n",
       "2         2012-04-21 17:43:47  \n",
       "3         2012-04-21 17:37:18  \n",
       "4         2012-04-21 17:43:43  \n",
       "...                       ...  \n",
       "1021963   2012-04-13 11:36:44  \n",
       "1021964   2012-04-13 12:58:05  \n",
       "1021965   2012-04-13 21:56:19  \n",
       "1021966   2012-04-14 02:44:52  \n",
       "1021967                   NaN  \n",
       "\n",
       "[1021968 rows x 6 columns]"
      ]
     },
     "execution_count": 9,
     "metadata": {},
     "output_type": "execute_result"
    }
   ],
   "source": [
    "data"
   ]
  },
  {
   "cell_type": "code",
   "execution_count": 10,
   "id": "460001a5",
   "metadata": {},
   "outputs": [],
   "source": [
    "data = data.drop(data[data.latitude == '                   '].index)"
   ]
  },
  {
   "cell_type": "code",
   "execution_count": 11,
   "id": "d945550c",
   "metadata": {},
   "outputs": [],
   "source": [
    "data = data.iloc[1:-1]"
   ]
  },
  {
   "cell_type": "code",
   "execution_count": 12,
   "id": "f6d4d045",
   "metadata": {},
   "outputs": [
    {
     "data": {
      "text/html": [
       "<div>\n",
       "<style scoped>\n",
       "    .dataframe tbody tr th:only-of-type {\n",
       "        vertical-align: middle;\n",
       "    }\n",
       "\n",
       "    .dataframe tbody tr th {\n",
       "        vertical-align: top;\n",
       "    }\n",
       "\n",
       "    .dataframe thead th {\n",
       "        text-align: right;\n",
       "    }\n",
       "</style>\n",
       "<table border=\"1\" class=\"dataframe\">\n",
       "  <thead>\n",
       "    <tr style=\"text-align: right;\">\n",
       "      <th></th>\n",
       "      <th>id</th>\n",
       "      <th>user_id</th>\n",
       "      <th>venue_id</th>\n",
       "      <th>latitude</th>\n",
       "      <th>longitude</th>\n",
       "      <th>created_at</th>\n",
       "    </tr>\n",
       "  </thead>\n",
       "  <tbody>\n",
       "    <tr>\n",
       "      <th>2</th>\n",
       "      <td>984222</td>\n",
       "      <td>15824.0</td>\n",
       "      <td>5222.0</td>\n",
       "      <td>38.8951118</td>\n",
       "      <td>-77.0363658</td>\n",
       "      <td>2012-04-21 17:43:47</td>\n",
       "    </tr>\n",
       "    <tr>\n",
       "      <th>4</th>\n",
       "      <td>984234</td>\n",
       "      <td>44652.0</td>\n",
       "      <td>5222.0</td>\n",
       "      <td>33.800745</td>\n",
       "      <td>-84.41052</td>\n",
       "      <td>2012-04-21 17:43:43</td>\n",
       "    </tr>\n",
       "    <tr>\n",
       "      <th>8</th>\n",
       "      <td>984291</td>\n",
       "      <td>105054.0</td>\n",
       "      <td>5222.0</td>\n",
       "      <td>45.5234515</td>\n",
       "      <td>-122.6762071</td>\n",
       "      <td>2012-04-21 17:39:22</td>\n",
       "    </tr>\n",
       "    <tr>\n",
       "      <th>10</th>\n",
       "      <td>984318</td>\n",
       "      <td>2146539.0</td>\n",
       "      <td>5222.0</td>\n",
       "      <td>40.764462</td>\n",
       "      <td>-111.904565</td>\n",
       "      <td>2012-04-21 17:35:46</td>\n",
       "    </tr>\n",
       "    <tr>\n",
       "      <th>11</th>\n",
       "      <td>984232</td>\n",
       "      <td>93870.0</td>\n",
       "      <td>380645.0</td>\n",
       "      <td>33.4483771</td>\n",
       "      <td>-112.0740373</td>\n",
       "      <td>2012-04-21 17:38:18</td>\n",
       "    </tr>\n",
       "    <tr>\n",
       "      <th>...</th>\n",
       "      <td>...</td>\n",
       "      <td>...</td>\n",
       "      <td>...</td>\n",
       "      <td>...</td>\n",
       "      <td>...</td>\n",
       "      <td>...</td>\n",
       "    </tr>\n",
       "    <tr>\n",
       "      <th>1021960</th>\n",
       "      <td>955561</td>\n",
       "      <td>626076.0</td>\n",
       "      <td>20073.0</td>\n",
       "      <td>40.8501002</td>\n",
       "      <td>-73.8662464</td>\n",
       "      <td>2012-04-13 09:56:48</td>\n",
       "    </tr>\n",
       "    <tr>\n",
       "      <th>1021961</th>\n",
       "      <td>955892</td>\n",
       "      <td>674797.0</td>\n",
       "      <td>2297.0</td>\n",
       "      <td>33.7489954</td>\n",
       "      <td>-84.3879824</td>\n",
       "      <td>2012-04-13 10:56:03</td>\n",
       "    </tr>\n",
       "    <tr>\n",
       "      <th>1021962</th>\n",
       "      <td>956377</td>\n",
       "      <td>845102.0</td>\n",
       "      <td>11195.0</td>\n",
       "      <td>42.7653662</td>\n",
       "      <td>-71.467566</td>\n",
       "      <td>2012-04-13 12:08:45</td>\n",
       "    </tr>\n",
       "    <tr>\n",
       "      <th>1021963</th>\n",
       "      <td>956119</td>\n",
       "      <td>1139114.0</td>\n",
       "      <td>29488.0</td>\n",
       "      <td>42.439479</td>\n",
       "      <td>-83.7438303</td>\n",
       "      <td>2012-04-13 11:36:44</td>\n",
       "    </tr>\n",
       "    <tr>\n",
       "      <th>1021965</th>\n",
       "      <td>956733</td>\n",
       "      <td>960666.0</td>\n",
       "      <td>60.0</td>\n",
       "      <td>42.331427</td>\n",
       "      <td>-83.0457538</td>\n",
       "      <td>2012-04-13 21:56:19</td>\n",
       "    </tr>\n",
       "  </tbody>\n",
       "</table>\n",
       "<p>396634 rows × 6 columns</p>\n",
       "</div>"
      ],
      "text/plain": [
       "                id    user_id  venue_id             latitude  \\\n",
       "2          984222     15824.0    5222.0          38.8951118    \n",
       "4          984234     44652.0    5222.0           33.800745    \n",
       "8          984291    105054.0    5222.0          45.5234515    \n",
       "10         984318   2146539.0    5222.0           40.764462    \n",
       "11         984232     93870.0  380645.0          33.4483771    \n",
       "...            ...        ...       ...                  ...   \n",
       "1021960    955561    626076.0   20073.0          40.8501002    \n",
       "1021961    955892    674797.0    2297.0          33.7489954    \n",
       "1021962    956377    845102.0   11195.0          42.7653662    \n",
       "1021963    956119   1139114.0   29488.0           42.439479    \n",
       "1021965    956733    960666.0      60.0           42.331427    \n",
       "\n",
       "                   longitude            created_at  \n",
       "2               -77.0363658    2012-04-21 17:43:47  \n",
       "4                 -84.41052    2012-04-21 17:43:43  \n",
       "8              -122.6762071    2012-04-21 17:39:22  \n",
       "10              -111.904565    2012-04-21 17:35:46  \n",
       "11             -112.0740373    2012-04-21 17:38:18  \n",
       "...                      ...                   ...  \n",
       "1021960         -73.8662464    2012-04-13 09:56:48  \n",
       "1021961         -84.3879824    2012-04-13 10:56:03  \n",
       "1021962          -71.467566    2012-04-13 12:08:45  \n",
       "1021963         -83.7438303    2012-04-13 11:36:44  \n",
       "1021965         -83.0457538    2012-04-13 21:56:19  \n",
       "\n",
       "[396634 rows x 6 columns]"
      ]
     },
     "execution_count": 12,
     "metadata": {},
     "output_type": "execute_result"
    }
   ],
   "source": [
    "data"
   ]
  },
  {
   "cell_type": "code",
   "execution_count": 13,
   "id": "45f0f420",
   "metadata": {},
   "outputs": [],
   "source": [
    "from sklearn.cluster import MeanShift"
   ]
  },
  {
   "cell_type": "code",
   "execution_count": 14,
   "id": "25fe49d5",
   "metadata": {},
   "outputs": [],
   "source": [
    "X = data.values[:100000, 3:5]"
   ]
  },
  {
   "cell_type": "code",
   "execution_count": 15,
   "id": "7095c7de",
   "metadata": {},
   "outputs": [
    {
     "data": {
      "text/plain": [
       "array([['        38.8951118 ', '       -77.0363658 '],\n",
       "       ['         33.800745 ', '         -84.41052 '],\n",
       "       ['        45.5234515 ', '      -122.6762071 '],\n",
       "       ...,\n",
       "       ['        29.7628844 ', '       -95.3830615 '],\n",
       "       ['         32.802955 ', '        -96.769923 '],\n",
       "       ['        37.7749295 ', '      -122.4194155 ']], dtype=object)"
      ]
     },
     "execution_count": 15,
     "metadata": {},
     "output_type": "execute_result"
    }
   ],
   "source": [
    "X"
   ]
  },
  {
   "cell_type": "markdown",
   "id": "81f9a87b",
   "metadata": {},
   "source": [
    "Now it is necessary to cluster these coordinates in order to identify the centers of tourist clusters. Since banners have a relatively small footprint, we need an algorithm that allows us to limit the size of the cluster and is independent of the number of clusters. Use MeanShift with bandwidth=0.1, which in degrees to meters ranges from about 5 to 10 km at mid-latitudes.\n",
    "\n",
    "Note: on 396634 lines clustering will work for a long time. Being very patient is not forbidden - the result will only improve. But in order to pass the assignment, you need a subset of the first 100 thousand lines. This is a compromise between quality and time spent. It takes about an hour to train the algorithm on the entire dataset, and about 2 minutes on 100 thousand rows, but this is enough to get correct results.\n",
    "\n",
    "Some of the resulting clusters contain too few points - such clusters are not of interest to advertisers. Therefore, it is necessary to determine which of the clusters contain, say, more than 15 elements. The centers of these clusters are optimal for placement.\n",
    "\n",
    "If you want to see the resulting results on the map, you can pass the centers of the resulting clusters to one of the visualization tools. For example, the site mapcustomizer.com has a Bulk Entry function where you can insert the centers of the resulting clusters in the format: 38.8951118,-77.0363658\n",
    "\n",
    "As we remember, 20 banners should be placed near the company's offices. We will find on Google Maps at the request of Carnival Cruise Line office addresses: 33.751277, -118.188740 (Los Angeles), etc."
   ]
  },
  {
   "cell_type": "code",
   "execution_count": 16,
   "id": "054f0a37",
   "metadata": {},
   "outputs": [],
   "source": [
    "clustering = MeanShift(bandwidth=2).fit(X)"
   ]
  },
  {
   "cell_type": "code",
   "execution_count": 17,
   "id": "d262fc5a",
   "metadata": {},
   "outputs": [],
   "source": [
    "unique = len(np.unique(clustering.labels_))"
   ]
  },
  {
   "cell_type": "code",
   "execution_count": 18,
   "id": "ba38de08",
   "metadata": {},
   "outputs": [
    {
     "data": {
      "text/plain": [
       "280"
      ]
     },
     "execution_count": 18,
     "metadata": {},
     "output_type": "execute_result"
    }
   ],
   "source": [
    "unique"
   ]
  },
  {
   "cell_type": "code",
   "execution_count": 19,
   "id": "2eb2c848",
   "metadata": {},
   "outputs": [],
   "source": [
    "cluster_centers = clustering.cluster_centers_"
   ]
  },
  {
   "cell_type": "code",
   "execution_count": 20,
   "id": "3ce24c6e",
   "metadata": {
    "scrolled": true
   },
   "outputs": [
    {
     "data": {
      "text/plain": [
       "array([[ 4.06819204e+01, -7.40758674e+01],\n",
       "       [ 3.34136361e+01, -1.11901424e+02],\n",
       "       [ 3.37209781e+01, -1.17900102e+02],\n",
       "       [ 3.77071545e+01, -1.22221237e+02],\n",
       "       [ 3.92172344e+01, -7.65175569e+01],\n",
       "       [ 4.21125091e+01, -8.77908054e+01],\n",
       "       [ 2.73697493e+01, -8.11814703e+01],\n",
       "       [ 4.22709824e+01, -7.13778405e+01],\n",
       "       [ 4.71019250e+01, -1.22400517e+02],\n",
       "       [ 3.18617223e+01, -9.71948575e+01],\n",
       "       [ 3.38248988e+01, -8.43692105e+01],\n",
       "       [ 4.14773201e+01, -8.27688701e+01],\n",
       "       [ 4.49318199e+01, -9.32495237e+01],\n",
       "       [ 4.19724767e+01, -8.02225577e+01],\n",
       "       [ 3.96197622e+01, -8.47919751e+01],\n",
       "       [ 3.97787294e+01, -1.05068159e+02],\n",
       "       [ 3.60831141e+01, -1.15134381e+02],\n",
       "       [ 3.55757373e+01, -7.98271936e+01],\n",
       "       [ 3.96140525e+01, -9.50930500e+01],\n",
       "       [ 2.98170758e+01, -9.53795058e+01],\n",
       "       [-6.31395822e+00,  1.06930266e+02],\n",
       "       [ 3.89329967e+01, -9.01007189e+01],\n",
       "       [ 3.59294932e+01, -8.65830729e+01],\n",
       "       [ 4.26678578e+01, -7.67190384e+01],\n",
       "       [ 3.13099037e+01, -8.11013927e+01],\n",
       "       [ 4.18804298e+01, -9.32824703e+01],\n",
       "       [ 3.61020486e+01, -9.60555171e+01],\n",
       "       [ 4.06799029e+01, -1.11844952e+02],\n",
       "       [ 5.15264121e+01, -2.58234149e-01],\n",
       "       [ 3.00844379e+01, -9.03555249e+01],\n",
       "       [ 3.09785305e+01, -8.55066492e+01],\n",
       "       [ 3.51188979e+01, -9.05301733e+01],\n",
       "       [ 3.59893868e+01, -9.34871430e+01],\n",
       "       [ 2.13168291e+01, -1.57817794e+02],\n",
       "       [ 1.94297457e+01, -9.91784846e+01],\n",
       "       [-2.34835136e+01, -4.66975282e+01],\n",
       "       [ 4.65216371e+01, -9.53144154e+01],\n",
       "       [-3.01226200e-01,  3.65229641e+01],\n",
       "       [-7.89592003e+00,  1.13768071e+02],\n",
       "       [ 5.17337516e+01,  5.14656404e+00],\n",
       "       [ 3.52038599e+01, -1.06458454e+02],\n",
       "       [ 1.37725707e+01,  1.00574092e+02],\n",
       "       [ 3.18668066e+01, -1.06577492e+02],\n",
       "       [ 2.72061008e+01, -9.76834496e+01],\n",
       "       [ 3.24821686e+01, -1.00809450e+02],\n",
       "       [ 4.36030557e+01, -1.16044305e+02],\n",
       "       [ 1.35071579e+00,  1.03835880e+02],\n",
       "       [ 3.81610727e+01, -9.75060228e+01],\n",
       "       [ 4.87610126e+01,  2.28965073e+00],\n",
       "       [ 4.33950648e+01, -9.67323675e+01],\n",
       "       [ 3.56578725e+01,  1.39649524e+02],\n",
       "       [ 3.73415748e+01,  1.27105617e+02],\n",
       "       [ 4.71823789e+01, -1.17592601e+02],\n",
       "       [ 5.06119052e+01,  7.34273762e+00],\n",
       "       [ 4.86382599e+01,  8.58583923e+00],\n",
       "       [ 3.15555480e+00,  1.01731183e+02],\n",
       "       [ 3.65338726e+01, -1.08441279e+02],\n",
       "       [ 1.83823112e+01, -6.59851212e+01],\n",
       "       [ 4.65088508e+01,  8.50776870e+00],\n",
       "       [ 3.42872883e+01, -1.01898281e+02],\n",
       "       [ 5.57465207e+01,  3.76117293e+01],\n",
       "       [ 4.13562460e+01, -1.22955025e+02],\n",
       "       [ 3.21945046e+01,  3.50400617e+01],\n",
       "       [ 4.51150501e+01, -1.10105801e+02],\n",
       "       [ 1.44624840e+01,  1.21054721e+02],\n",
       "       [-2.29035393e+01, -4.32095869e+01],\n",
       "       [-3.32807466e+01, -7.09747648e+01],\n",
       "       [ 6.09165609e+01, -1.50340483e+02],\n",
       "       [ 5.10455194e+01, -1.14140391e+02],\n",
       "       [ 2.06694916e+01, -1.03552118e+02],\n",
       "       [ 2.02572831e+01, -1.56043580e+02],\n",
       "       [-7.62497705e+00,  1.10561948e+02],\n",
       "       [ 5.25201747e+01,  1.34029322e+01],\n",
       "       [ 2.24185178e+01,  1.13993227e+02],\n",
       "       [ 4.04337301e+01, -9.89959590e+01],\n",
       "       [-3.38093206e+01,  1.51145662e+02],\n",
       "       [-7.89275000e-01,  1.13921327e+02],\n",
       "       [ 4.85155228e+01,  1.06943316e+01],\n",
       "       [ 3.50130652e+00,  9.87212859e+01],\n",
       "       [ 2.52644444e+01,  5.53116667e+01],\n",
       "       [ 4.00768888e+01, -3.56821416e+00],\n",
       "       [ 2.59903866e+01, -1.00244397e+02],\n",
       "       [-3.77855974e+01,  1.44961504e+02],\n",
       "       [ 3.12186379e+01,  1.21464501e+02],\n",
       "       [-3.45992702e+01, -5.84053162e+01],\n",
       "       [ 5.33755400e+01, -6.38176996e+00],\n",
       "       [ 4.31989990e+01, -1.11468694e+02],\n",
       "       [ 5.56618361e+01,  1.26780718e+01],\n",
       "       [ 4.10004537e+01,  2.90056387e+01],\n",
       "       [ 6.02386784e+01,  2.49691744e+01],\n",
       "       [ 4.51120279e+01, -6.33283181e+01],\n",
       "       [ 9.99160833e+00, -8.42497528e+01],\n",
       "       [ 2.10737375e+01, -8.68710935e+01],\n",
       "       [ 4.81198200e+01,  1.64705319e+01],\n",
       "       [ 4.73668469e+01, -1.01346000e+02],\n",
       "       [ 4.08395013e+01,  2.73784536e+00],\n",
       "       [ 1.85080027e+01, -6.82810931e+01],\n",
       "       [ 5.35529637e+01, -1.13475049e+02],\n",
       "       [ 3.49476720e+01,  1.35834224e+02],\n",
       "       [ 1.90661645e+01,  7.29427846e+01],\n",
       "       [ 5.62390900e+01, -4.01012274e+00],\n",
       "       [ 5.39433338e+01,  1.01209428e+01],\n",
       "       [ 4.38266926e+01,  6.31859289e+00],\n",
       "       [ 4.21768205e+01,  1.23661416e+01],\n",
       "       [-2.75512746e+01,  1.53111259e+02],\n",
       "       [ 5.00131344e+01,  1.44211436e+01],\n",
       "       [ 4.69536022e+01, -1.12902228e+02],\n",
       "       [ 3.16720927e+01, -1.02659670e+02],\n",
       "       [ 1.53893854e+01,  1.02168816e+02],\n",
       "       [-1.20479969e+01, -7.69630722e+01],\n",
       "       [ 3.98597816e+01,  1.16584921e+02],\n",
       "       [ 2.30673937e+01, -1.02179587e+02],\n",
       "       [ 4.26600694e+01,  1.75199729e+01],\n",
       "       [ 3.84413525e+01, -1.16278755e+02],\n",
       "       [ 5.97836371e+01,  1.07864392e+01],\n",
       "       [ 4.75071114e+01,  1.90780203e+01],\n",
       "       [ 4.59043041e+01, -6.67260272e+01],\n",
       "       [-2.60274303e+01, -4.91367700e+01],\n",
       "       [-2.61489708e+01,  2.80262638e+01],\n",
       "       [ 6.47414142e+01, -1.47435934e+02],\n",
       "       [ 4.30525715e+01, -1.18477274e+00],\n",
       "       [ 2.48344693e+01,  1.21309788e+02],\n",
       "       [ 2.34103999e+01,  8.54196501e+01],\n",
       "       [ 3.42055560e+00, -7.65222222e+01],\n",
       "       [-8.27073727e-02,  1.17081913e+02],\n",
       "       [ 5.30997583e+01, -9.13096625e+00],\n",
       "       [ 4.41726813e+01, -1.03358547e+02],\n",
       "       [ 3.87127583e+01, -9.14645856e+00],\n",
       "       [ 2.57703604e+01,  5.09141741e+01],\n",
       "       [ 4.58718056e+00, -7.41644332e+01],\n",
       "       [-4.28946543e+01,  1.47326231e+02],\n",
       "       [ 6.30129276e+01,  2.16488084e+01],\n",
       "       [ 3.05930870e+01,  1.14305357e+02],\n",
       "       [-1.94409556e-02,  1.01053210e+02],\n",
       "       [ 4.63299687e+01,  1.50492908e+01],\n",
       "       [ 3.03607421e+01,  3.09725910e+01],\n",
       "       [-1.57801482e+01, -4.79291698e+01],\n",
       "       [-3.39630674e+01,  1.85422615e+01],\n",
       "       [ 5.83019444e+01, -1.34419722e+02],\n",
       "       [ 5.44415810e+01,  1.85600956e+01],\n",
       "       [ 5.10203451e+01, -1.10597596e+02],\n",
       "       [ 4.18977626e+01,  1.54213032e+01],\n",
       "       [ 4.06496966e+01, -6.39995353e+00],\n",
       "       [ 3.56961111e+01,  5.14230556e+01],\n",
       "       [ 1.94766570e+01,  9.97259427e+01],\n",
       "       [ 1.05036505e+01, -6.68882099e+01],\n",
       "       [ 1.44998611e+00,  1.24842959e+02],\n",
       "       [-5.14366200e+00,  1.19426339e+02],\n",
       "       [-3.68484597e+01,  1.74763332e+02],\n",
       "       [ 5.99619056e+01,  3.02833847e+01],\n",
       "       [ 5.04500167e+01,  3.05233444e+01],\n",
       "       [ 4.39315124e+01, -6.16696498e+01],\n",
       "       [ 4.06519159e+01,  9.37853470e+00],\n",
       "       [ 2.89016329e+01, -1.10975042e+02],\n",
       "       [ 2.15047582e+01,  3.93869036e+01],\n",
       "       [ 8.69007700e+00, -8.03610153e+01],\n",
       "       [-3.00277041e+01, -5.12287346e+01],\n",
       "       [-3.19584442e+01,  1.15867531e+02],\n",
       "       [ 5.94251577e+01,  1.81515336e+01],\n",
       "       [ 5.22954792e+01, -1.06608298e+02],\n",
       "       [ 5.18533339e+01,  1.97672324e+01],\n",
       "       [ 4.25961128e+01, -1.06355181e+02],\n",
       "       [ 3.99562446e+01,  3.27992919e+01],\n",
       "       [ 3.74619542e+01,  2.43006844e+01],\n",
       "       [ 3.66028347e+01, -5.98110206e+00],\n",
       "       [ 2.93059163e+01,  4.80024457e+01],\n",
       "       [ 1.81324531e+01, -8.83822070e+01],\n",
       "       [ 1.29715987e+01,  7.75945627e+01],\n",
       "       [ 8.48749500e+00,  7.69486230e+01],\n",
       "       [ 2.33032900e+00,  1.11790891e+02],\n",
       "       [-2.26386512e+01,  1.73640668e+01],\n",
       "       [-4.12258313e+01,  1.74881092e+02],\n",
       "       [ 5.37266683e+01, -1.27647621e+02],\n",
       "       [ 4.03634490e+01,  2.26176483e+01],\n",
       "       [ 2.86353080e+01,  7.72249600e+01],\n",
       "       [ 2.84201114e+01, -1.06192994e+02],\n",
       "       [ 1.07675489e+01,  1.06681102e+02],\n",
       "       [-2.22510432e+00, -8.00974760e+01],\n",
       "       [-8.55845800e+00,  1.25578151e+02],\n",
       "       [-1.42350040e+01, -5.19252800e+01],\n",
       "       [ 5.60012512e+01,  9.28855896e+01],\n",
       "       [ 5.53422222e+01, -1.31646111e+02],\n",
       "       [ 5.45320811e+01, -1.06017585e+02],\n",
       "       [ 5.29985325e+01,  2.20006251e+01],\n",
       "       [ 5.12537750e+01, -8.53232139e+01],\n",
       "       [ 2.28905327e+01, -1.09916737e+02],\n",
       "       [ 2.17661608e+01, -7.23074326e+01],\n",
       "       [ 1.88272143e+01, -7.23022793e+01],\n",
       "       [ 1.46802834e+01, -9.00697222e+01],\n",
       "       [ 8.47648890e+00,  1.23337392e+02],\n",
       "       [ 5.89398210e+00,  1.00419561e+02],\n",
       "       [-3.46666670e+00,  1.14750000e+02],\n",
       "       [-4.31219800e+00,  1.37360118e+02],\n",
       "       [-2.96284343e+01,  3.05432099e+01],\n",
       "       [-3.49143691e+01,  1.38602960e+02],\n",
       "       [-3.72017285e+01, -5.98410697e+01],\n",
       "       [-4.35320544e+01,  1.72636225e+02],\n",
       "       [ 6.76314789e+01,  3.37293684e+01],\n",
       "       [ 6.17213889e+01, -1.43986111e+02],\n",
       "       [ 6.11308333e+01, -1.46348333e+02],\n",
       "       [ 4.62823445e+01,  2.38715745e+01],\n",
       "       [ 4.09729584e+01, -1.17735685e+02],\n",
       "       [ 3.97658690e+01,  6.44223480e+01],\n",
       "       [ 3.90322826e+01, -4.28245150e-01],\n",
       "       [ 3.58616600e+01,  1.04195397e+02],\n",
       "       [ 2.68205530e+01,  3.08024980e+01],\n",
       "       [ 2.45362638e+01,  6.79642863e+01],\n",
       "       [ 2.25726460e+01,  8.83638950e+01],\n",
       "       [ 1.80250918e+01, -7.68097525e+01],\n",
       "       [ 1.77000000e+01,  8.32500000e+01],\n",
       "       [ 1.01786746e+01, -6.12801996e+01],\n",
       "       [ 7.93689875e+00,  9.83580386e+01],\n",
       "       [ 3.35467950e+00,  1.17596540e+02],\n",
       "       [ 8.36951650e-01,  1.09800801e+02],\n",
       "       [-2.29498000e-01, -7.85242770e+01],\n",
       "       [-2.78780800e-01,  1.11475285e+02],\n",
       "       [-3.10719230e+00, -6.00261267e+01],\n",
       "       [-1.88729543e+01, -4.38725340e+01],\n",
       "       [-2.03221861e+01, -4.03380886e+01],\n",
       "       [-2.08307722e+01, -5.01464017e+01],\n",
       "       [-3.12532183e+01,  1.46921099e+02],\n",
       "       [-3.39725887e+01, -5.35487849e+01],\n",
       "       [-3.59072158e+01,  1.48712824e+02],\n",
       "       [ 6.39126321e+01, -2.21916474e+01],\n",
       "       [ 6.07166667e+01, -1.35050000e+02],\n",
       "       [ 5.92737550e+01,  1.52075395e+01],\n",
       "       [ 5.89700526e+01,  5.73333800e+00],\n",
       "       [ 5.83708465e+01,  2.67147224e+01],\n",
       "       [ 5.69465363e+01,  2.41048503e+01],\n",
       "       [ 5.68378140e+01,  6.05968420e+01],\n",
       "       [ 5.63299170e+01,  4.40091920e+01],\n",
       "       [ 5.50333333e+01,  8.29166667e+01],\n",
       "       [ 5.39332706e+01, -1.16576504e+02],\n",
       "       [ 5.37608608e+01, -9.88138763e+01],\n",
       "       [ 5.32761350e+01, -1.10000481e+02],\n",
       "       [ 5.29399159e+01, -7.35491361e+01],\n",
       "       [ 5.11078852e+01,  1.70385376e+01],\n",
       "       [ 5.04547222e+01, -1.04606667e+02],\n",
       "       [ 5.00265200e+01, -1.00234901e+02],\n",
       "       [ 4.80027778e+01,  3.78052778e+01],\n",
       "       [ 4.64845830e+01,  3.07326000e+01],\n",
       "       [ 4.44377110e+01,  2.60973670e+01],\n",
       "       [ 4.31907173e+01,  1.40994662e+02],\n",
       "       [ 3.68401638e+01, -2.46792170e+00],\n",
       "       [ 3.51666667e+01,  3.33666667e+01],\n",
       "       [ 3.35588035e+01,  1.33531168e+02],\n",
       "       [ 3.33157000e+01,  4.43922000e+01],\n",
       "       [ 3.31799153e+01,  1.29715110e+02],\n",
       "       [ 3.22948160e+01, -6.47813750e+01],\n",
       "       [ 3.16333333e+01, -8.00000000e+00],\n",
       "       [ 3.06586010e+01,  1.04064856e+02],\n",
       "       [ 2.78598000e+01,  3.42824000e+01],\n",
       "       [ 2.55396500e+01, -1.03517097e+02],\n",
       "       [ 2.50377210e+01,  1.02722202e+02],\n",
       "       [ 2.46880015e+01,  4.67224333e+01],\n",
       "       [ 2.10333333e+01,  1.05850000e+02],\n",
       "       [ 1.91400064e+01, -9.61155932e+01],\n",
       "       [ 1.73850440e+01,  7.84866710e+01],\n",
       "       [ 1.70669444e+01, -9.67202778e+01],\n",
       "       [ 1.70608160e+01, -6.17964280e+01],\n",
       "       [ 1.33742669e+01,  1.44708257e+02],\n",
       "       [ 1.31938870e+01, -5.95431980e+01],\n",
       "       [ 1.28693600e+01,  7.48425600e+01],\n",
       "       [ 1.25245800e+01, -7.00264590e+01],\n",
       "       [ 1.21363889e+01, -8.62513889e+01],\n",
       "       [ 7.76495100e+00, -7.22260610e+01],\n",
       "       [ 6.36250000e+00,  2.42550000e+00],\n",
       "       [ 6.23592500e+00, -7.55751370e+01],\n",
       "       [ 5.97647400e+00,  1.16115777e+02],\n",
       "       [ 4.13620900e+00,  9.61248780e+01],\n",
       "       [-8.81142000e-01,  1.31249603e+02],\n",
       "       [-1.45502050e+00, -4.85023682e+01],\n",
       "       [-1.84790790e+00,  1.20527910e+02],\n",
       "       [-3.71839430e+00, -3.85433948e+01],\n",
       "       [-4.27976260e+00,  3.95946958e+01],\n",
       "       [-1.12026920e+01,  1.78738870e+01],\n",
       "       [-1.35250000e+01, -7.19722222e+01],\n",
       "       [-2.52520888e+01, -5.20215415e+01],\n",
       "       [-3.08101921e+01,  1.21536292e+02],\n",
       "       [-4.50311622e+01,  1.68662644e+02]])"
      ]
     },
     "execution_count": 20,
     "metadata": {},
     "output_type": "execute_result"
    }
   ],
   "source": [
    "cluster_centers"
   ]
  },
  {
   "cell_type": "code",
   "execution_count": 21,
   "id": "f148a5d7",
   "metadata": {},
   "outputs": [
    {
     "data": {
      "text/plain": [
       "280"
      ]
     },
     "execution_count": 21,
     "metadata": {},
     "output_type": "execute_result"
    }
   ],
   "source": [
    "len(cluster_centers)"
   ]
  },
  {
   "cell_type": "code",
   "execution_count": 22,
   "id": "374612bc",
   "metadata": {},
   "outputs": [],
   "source": [
    "dict = {}\n",
    "labels = clustering.labels_\n",
    "for label in labels:\n",
    "    if label in dict:\n",
    "        dict[label] += 1\n",
    "    else:\n",
    "        dict[label] = 1\n",
    "        \n",
    "p = pd.DataFrame(dict, index=[0])"
   ]
  },
  {
   "cell_type": "code",
   "execution_count": 24,
   "id": "20539843",
   "metadata": {},
   "outputs": [
    {
     "name": "stdout",
     "output_type": "stream",
     "text": [
      "[4, 10, 8, 27, 1, 0, 7, 2, 16, 3, 5, 33, 14, 13, 81, 18, 12, 25, 17, 9, 56, 22, 45, 24, 26, 31, 11, 85, 30, 57, 6, 29, 47, 52, 44, 84, 75, 15, 58, 19, 69, 74, 28, 50, 51, 40, 60, 65, 21, 39, 32, 48, 35, 89, 62, 63, 87, 36, 34, 53, 23, 20, 61, 43, 88, 80, 101, 93, 42, 59, 68, 46, 116, 67, 37, 49, 70, 99, 201, 66, 94, 86, 79, 77, 64, 95, 83, 97, 55, 100, 107, 98, 71, 90, 72, 38, 78, 73, 92, 104, 41, 76, 82, 91, 103]\n"
     ]
    }
   ],
   "source": [
    "l = []\n",
    "for c in dict:\n",
    "    if dict[c] > 15:\n",
    "        l.append(c)\n",
    "\n",
    "print(l)        "
   ]
  },
  {
   "cell_type": "code",
   "execution_count": 25,
   "id": "73857aff",
   "metadata": {},
   "outputs": [
    {
     "data": {
      "text/plain": [
       "105"
      ]
     },
     "execution_count": 25,
     "metadata": {},
     "output_type": "execute_result"
    }
   ],
   "source": [
    "len(l)"
   ]
  },
  {
   "cell_type": "code",
   "execution_count": 46,
   "id": "3ed3d6b8",
   "metadata": {},
   "outputs": [],
   "source": [
    "clusters_select = np.ndarray(shape=(105,2))"
   ]
  },
  {
   "cell_type": "code",
   "execution_count": 47,
   "id": "582851e4",
   "metadata": {},
   "outputs": [],
   "source": [
    "i = 0\n",
    "j = 0\n",
    "while i < len(cluster_centers):\n",
    "    if dict[i] > 15:\n",
    "        clusters_select[j] = cluster_centers[i]\n",
    "        j += 1\n",
    "    i += 1"
   ]
  },
  {
   "cell_type": "code",
   "execution_count": 48,
   "id": "ef8ce95f",
   "metadata": {},
   "outputs": [
    {
     "data": {
      "text/plain": [
       "array([ 40.68192041, -74.0758674 ])"
      ]
     },
     "execution_count": 48,
     "metadata": {},
     "output_type": "execute_result"
    }
   ],
   "source": [
    "clusters_select[0]"
   ]
  },
  {
   "cell_type": "markdown",
   "id": "8c403014",
   "metadata": {},
   "source": [
    "As we remember, 20 banners should be placed near the company's offices. We find on Google Maps on demand \"Carnival Cruise Line\" office locations: 33.751277, -118.188740 (Los Angeles) 25.867736, -80.324116 (Miami) 51.503016, -0.075479 (London) 52.378894, 4.885084 (Amsterdam) 39.366487, 117.036146 (Beijing) -33.868457 , 151.205134 (Sydney) It remains to determine the 20 nearest cluster centers. Those. calculate the distance to the nearest office for each point and choose 20 with the smallest value. Note: when calculating distances and in clustering, we can neglect the fact that the Earth is round, since at points located close to each other the error is small, and at other points the value is quite large.\n",
    "\n",
    "To submit the assignment, choose from the resulting 20 centers the one that is the least distant from the office closest to it. The answer in this task is the latitude and longitude of this center, written with a space."
   ]
  },
  {
   "cell_type": "code",
   "execution_count": 49,
   "id": "afe173d8",
   "metadata": {},
   "outputs": [],
   "source": [
    "offices = np.ndarray(shape=(6,2))\n",
    "offices[0] = np.array([33.751277, -118.188740])\n",
    "offices[1] = np.array([25.867736, -80.324116])\n",
    "offices[2] = np.array([51.503016, -0.075479])\n",
    "offices[3] = np.array([52.378894, 4.885084])\n",
    "offices[4] = np.array([39.366487, 117.036146])\n",
    "offices[5] = np.array([-33.868457, 151.205134])"
   ]
  },
  {
   "cell_type": "code",
   "execution_count": 50,
   "id": "e18d3ddb",
   "metadata": {},
   "outputs": [],
   "source": [
    "def distance(point1, point2):\n",
    "    return ((point1[0] - point2[0])**2 + (point1[1] - point2[1])**2)**0.5"
   ]
  },
  {
   "cell_type": "code",
   "execution_count": 52,
   "id": "5a0b0130",
   "metadata": {},
   "outputs": [
    {
     "data": {
      "text/plain": [
       "40.188018024685455"
      ]
     },
     "execution_count": 52,
     "metadata": {},
     "output_type": "execute_result"
    }
   ],
   "source": [
    "distance(offices[0], clusters_select[69])"
   ]
  },
  {
   "cell_type": "code",
   "execution_count": 37,
   "id": "80991cc3",
   "metadata": {},
   "outputs": [],
   "source": [
    "answer_index = 0\n",
    "min_dist = 0\n",
    "i = 0\n",
    "while i < len(clusters_select):\n",
    "    distances = [distance(xx, clusters_select[i]) for xx in offices]\n",
    "    if min_dist == 0:\n",
    "        min_dist = min(distances)\n",
    "        answer_index = i\n",
    "    else:\n",
    "        if min_dist > min(distances):\n",
    "            min_dist = min(distances)\n",
    "            answer_index = i\n",
    "    i += 1"
   ]
  },
  {
   "cell_type": "code",
   "execution_count": 38,
   "id": "6fdde67e",
   "metadata": {},
   "outputs": [
    {
     "data": {
      "text/plain": [
       "74"
      ]
     },
     "execution_count": 38,
     "metadata": {},
     "output_type": "execute_result"
    }
   ],
   "source": [
    "answer_index"
   ]
  },
  {
   "cell_type": "code",
   "execution_count": 39,
   "id": "4bc26c75",
   "metadata": {},
   "outputs": [
    {
     "data": {
      "text/plain": [
       "array([-33.80932059, 151.14566154])"
      ]
     },
     "execution_count": 39,
     "metadata": {},
     "output_type": "execute_result"
    }
   ],
   "source": [
    "clusters_select[answer_index]"
   ]
  },
  {
   "cell_type": "code",
   "execution_count": 116,
   "id": "f9d2c924",
   "metadata": {},
   "outputs": [],
   "source": [
    "def write_answer(center):\n",
    "    with open(\"answer.txt\", \"w\") as f:\n",
    "        f.write(str(center[0]) + ' ' + str(center[1]))"
   ]
  },
  {
   "cell_type": "code",
   "execution_count": 117,
   "id": "5f80d228",
   "metadata": {},
   "outputs": [],
   "source": [
    "write_answer(clusters_select[answer_index])"
   ]
  }
 ],
 "metadata": {
  "kernelspec": {
   "display_name": "Python 3 (ipykernel)",
   "language": "python",
   "name": "python3"
  },
  "language_info": {
   "codemirror_mode": {
    "name": "ipython",
    "version": 3
   },
   "file_extension": ".py",
   "mimetype": "text/x-python",
   "name": "python",
   "nbconvert_exporter": "python",
   "pygments_lexer": "ipython3",
   "version": "3.8.10"
  }
 },
 "nbformat": 4,
 "nbformat_minor": 5
}
